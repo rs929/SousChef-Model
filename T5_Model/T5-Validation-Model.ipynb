{
 "cells": [
  {
   "cell_type": "code",
   "execution_count": null,
   "metadata": {},
   "outputs": [],
   "source": [
    "import torch\n",
    "from transformers import T5Tokenizer, T5ForConditionalGeneration\n",
    "from sentence_transformers import SentenceTransformer, util\n",
    "import spacy\n",
    "\n",
    "output_dir = \"./t5_recipe_generator_pretrained_model\""
   ]
  },
  {
   "cell_type": "code",
   "execution_count": 6,
   "metadata": {},
   "outputs": [
    {
     "name": "stdout",
     "output_type": "stream",
     "text": [
      "False\n",
      "False\n",
      "False\n",
      "False\n",
      "True\n",
      "True\n",
      "True\n"
     ]
    }
   ],
   "source": [
    "# BERT Contextual Validation\n",
    "bert_model = SentenceTransformer('all-MiniLM-L6-v2')\n",
    "\n",
    "def validate_action_ingredient_contextual(action, ingredient, threshold=0.5):\n",
    "    action_embedding = bert_model.encode(action)\n",
    "    ingredient_embedding = bert_model.encode(ingredient)\n",
    "    similarity = util.cos_sim(action_embedding, ingredient_embedding).item()\n",
    "    return similarity > threshold\n",
    "\n",
    "print(validate_action_ingredient_contextual(\"melt\", \"chicken\"))\n",
    "print(validate_action_ingredient_contextual(\"print\", \"chicken\"))\n",
    "print(validate_action_ingredient_contextual(\"stir\", \"chicken\"))\n",
    "print(validate_action_ingredient_contextual(\"fry\", \"in ice\"))\n",
    "print(validate_action_ingredient_contextual(\"fry\", \"chicken\"))\n",
    "print(validate_action_ingredient_contextual(\"print\", \"paper\"))\n",
    "print(validate_action_ingredient_contextual(\"melt\", \"ice\"))\n",
    "\n"
   ]
  },
  {
   "cell_type": "code",
   "execution_count": 7,
   "metadata": {},
   "outputs": [
    {
     "name": "stdout",
     "output_type": "stream",
     "text": [
      "False\n",
      "False\n",
      "True\n",
      "False\n",
      "True\n",
      "True\n",
      "False\n"
     ]
    }
   ],
   "source": [
    "# Spacy Validation\n",
    "nlp = spacy.load(\"en_core_web_md\")\n",
    "\n",
    "def validate_action_ingredient_spacy(action, ingredient, threshold=0.5):\n",
    "    similarity = nlp(action).similarity(nlp(ingredient))\n",
    "    return similarity > threshold\n",
    "\n",
    "print(validate_action_ingredient_spacy(\"melt\", \"chicken\"))\n",
    "print(validate_action_ingredient_spacy(\"print\", \"chicken\"))\n",
    "print(validate_action_ingredient_spacy(\"stir\", \"chicken\"))\n",
    "print(validate_action_ingredient_spacy(\"fry\", \"in ice\"))\n",
    "print(validate_action_ingredient_spacy(\"fry\", \"chicken\"))\n",
    "print(validate_action_ingredient_spacy(\"print\", \"paper\"))\n",
    "print(validate_action_ingredient_spacy(\"melt\", \"ice\"))\n"
   ]
  },
  {
   "cell_type": "code",
   "execution_count": 63,
   "metadata": {},
   "outputs": [],
   "source": [
    "def validate_word_groupings(recipe, ingredients, n=2, threshold=0.5):\n",
    "    \"\"\"\n",
    "    Validate n-word groupings in the recipe using both BERT and spaCy.\n",
    "    Returns the number of invalid groupings found in the recipe.\n",
    "    \"\"\"\n",
    "    words = recipe.split()\n",
    "    invalid_groupings = []\n",
    "\n",
    "    for i in range(len(words) - n + 1):\n",
    "        word_group = \" \".join(words[i : i + n])\n",
    "        valid = any(\n",
    "            validate_action_ingredient_contextual(word_group, ingredient, threshold)\n",
    "            or validate_action_ingredient_spacy(word_group, ingredient, threshold)\n",
    "            for ingredient in ingredients\n",
    "        )\n",
    "        if not valid:\n",
    "            invalid_groupings.append(word_group)\n",
    "\n",
    "    return len(invalid_groupings), invalid_groupings\n",
    "\n",
    "\n",
    "def find_best_recipe(ingredients_list, model, tokenizer, num_recipes=10, n=2, threshold=0.5):\n",
    "    \"\"\"\n",
    "    Generate a set of recipes and return the one with the least invalid groupings.\n",
    "    \"\"\"\n",
    "    device = torch.device(\"cuda\" if torch.cuda.is_available() else \"cpu\")\n",
    "    model.to(device)\n",
    "\n",
    "    formatted_ingredients = \", \".join(ingredients_list)\n",
    "    input_text = (\n",
    "        f\"Generate a recipe using these ingredients: {formatted_ingredients}.\\n\"\n",
    "        f\"Include preparation steps and cooking instructions in a clear, step-by-step format.\"\n",
    "    )\n",
    "\n",
    "    best_recipe = None\n",
    "    least_invalid_count = float('inf')\n",
    "    best_invalid_groupings = []\n",
    "\n",
    "    for _ in range(num_recipes):\n",
    "        # Generate a recipe\n",
    "        inputs = tokenizer(\n",
    "            input_text, return_tensors=\"pt\", padding=True, truncation=True, max_length=512\n",
    "        ).to(device)\n",
    "\n",
    "        outputs = model.generate(\n",
    "            inputs[\"input_ids\"],\n",
    "            max_length=512,\n",
    "            do_sample=True,\n",
    "            top_p=0.9,\n",
    "            temperature=0.8,\n",
    "            no_repeat_ngram_size=3,\n",
    "        )\n",
    "\n",
    "        raw_output = tokenizer.decode(outputs[0], skip_special_tokens=True)\n",
    "        recipe = clean_output(raw_output)\n",
    "\n",
    "        invalid_count, invalid_groupings = validate_word_groupings(recipe, ingredients_list, n, threshold)\n",
    "\n",
    "        if invalid_count < least_invalid_count:\n",
    "            best_recipe = recipe\n",
    "            least_invalid_count = invalid_count\n",
    "            best_invalid_groupings = invalid_groupings\n",
    "\n",
    "    print(f\"Best Recipe Invalid Count: {least_invalid_count}\")\n",
    "    print(f\"Best Recipe Invalid Groupings: {', '.join(best_invalid_groupings)}\")\n",
    "    return best_recipe\n",
    "\n",
    "def clean_output(output_text):\n",
    "    output_text = output_text.replace(\"<RECIPE>\", \"\").replace(\"<INGR>\", \"\").strip()\n",
    "    output_text = output_text.capitalize()\n",
    "\n",
    "    if not output_text.endswith(\".\"):\n",
    "        output_text += \".\\n\"\n",
    "    \n",
    "    output_text = \" \".join(output_text.split())\n",
    "    return output_text\n"
   ]
  },
  {
   "cell_type": "code",
   "execution_count": 65,
   "metadata": {},
   "outputs": [
    {
     "name": "stderr",
     "output_type": "stream",
     "text": [
      "/var/folders/yq/f3hvpvm57r3ds81dmwjyrnrc0000gn/T/ipykernel_48641/4018775537.py:5: UserWarning: [W008] Evaluating Doc.similarity based on empty vectors.\n",
      "  similarity = nlp(action).similarity(nlp(ingredient))\n"
     ]
    },
    {
     "name": "stdout",
     "output_type": "stream",
     "text": [
      "Best Recipe Invalid Count: 10\n",
      "Best Recipe Invalid Groupings: In a, a small, until tender, about 10, 10 minutes, minutes then, a little, little 1, 1 cup, until smooth.\n",
      "Best Recipe:\n",
      "In a small bowl combine chicken garlic onion onion salt and wine and cook until tender about 10 minutes then add chicken and garlic to bowl combine toss a little 1 cup chicken broth until smooth.\n"
     ]
    }
   ],
   "source": [
    "ingredients_list_1 = [\"chicken\", \"garlic\", \"onion\", \"salt\", \"wine\"]\n",
    "ingredients_list_2 = [\"flour\", \"sugar\", \"butter\", \"eggs\", \"chocolate\"]\n",
    "\n",
    "\n",
    "loaded_model = T5ForConditionalGeneration.from_pretrained(output_dir)\n",
    "loaded_tokenizer = T5Tokenizer.from_pretrained(output_dir)\n",
    "\n",
    "best_recipe = find_best_recipe(\n",
    "    ingredients_list_1, loaded_model, loaded_tokenizer, num_recipes=10, n=2, threshold=0.5\n",
    ")\n",
    "\n",
    "print(\"Best Recipe:\")\n",
    "print(best_recipe)"
   ]
  },
  {
   "cell_type": "code",
   "execution_count": null,
   "metadata": {},
   "outputs": [],
   "source": []
  }
 ],
 "metadata": {
  "kernelspec": {
   "display_name": ".venv",
   "language": "python",
   "name": "python3"
  },
  "language_info": {
   "codemirror_mode": {
    "name": "ipython",
    "version": 3
   },
   "file_extension": ".py",
   "mimetype": "text/x-python",
   "name": "python",
   "nbconvert_exporter": "python",
   "pygments_lexer": "ipython3",
   "version": "3.10.15"
  }
 },
 "nbformat": 4,
 "nbformat_minor": 2
}
