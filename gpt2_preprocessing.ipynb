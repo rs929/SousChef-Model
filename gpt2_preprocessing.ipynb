{
 "cells": [
  {
   "cell_type": "code",
   "execution_count": 31,
   "metadata": {},
   "outputs": [],
   "source": [
    "import pandas as pd\n",
    "import ast\n",
    "from torch.nn.utils.rnn import pad_sequence\n",
    "import os\n",
    "import ast\n",
    "from transformers import GPT2Tokenizer\n",
    "from sklearn.model_selection import train_test_split"
   ]
  },
  {
   "cell_type": "code",
   "execution_count": 5,
   "metadata": {},
   "outputs": [],
   "source": [
    "#importing the previous preprocessing script's output csv\n",
    "recipes_data = pd.read_csv('preprocessed_recipes_full.csv')"
   ]
  },
  {
   "cell_type": "code",
   "execution_count": 7,
   "metadata": {},
   "outputs": [
    {
     "name": "stdout",
     "output_type": "stream",
     "text": [
      "(13501, 14)\n"
     ]
    },
    {
     "data": {
      "text/html": [
       "<div>\n",
       "<style scoped>\n",
       "    .dataframe tbody tr th:only-of-type {\n",
       "        vertical-align: middle;\n",
       "    }\n",
       "\n",
       "    .dataframe tbody tr th {\n",
       "        vertical-align: top;\n",
       "    }\n",
       "\n",
       "    .dataframe thead th {\n",
       "        text-align: right;\n",
       "    }\n",
       "</style>\n",
       "<table border=\"1\" class=\"dataframe\">\n",
       "  <thead>\n",
       "    <tr style=\"text-align: right;\">\n",
       "      <th></th>\n",
       "      <th>Unnamed: 0</th>\n",
       "      <th>Ingredients</th>\n",
       "      <th>Instructions</th>\n",
       "      <th>Simplified_Ingredients</th>\n",
       "      <th>Simplified_Instructions</th>\n",
       "      <th>Instr_Tok_Wrds</th>\n",
       "      <th>Ingredients_Tok</th>\n",
       "      <th>Instructions_Tok</th>\n",
       "      <th>Ingr_Len</th>\n",
       "      <th>Instr_Len</th>\n",
       "      <th>Ingr_Tnsr</th>\n",
       "      <th>Instr_Tnsr</th>\n",
       "      <th>Padded_Length_Ingr</th>\n",
       "      <th>Padded_Length_Instr</th>\n",
       "    </tr>\n",
       "  </thead>\n",
       "  <tbody>\n",
       "    <tr>\n",
       "      <th>0</th>\n",
       "      <td>0</td>\n",
       "      <td>['1 (3½–4-lb.) whole chicken', '2¾ tsp. kosher...</td>\n",
       "      <td>Pat chicken dry with paper towels, season all ...</td>\n",
       "      <td>['chicken', 'kosher_salt', 'acorn_squash', 'sa...</td>\n",
       "      <td>pat chicken dry with paper towels season all o...</td>\n",
       "      <td>['pat', 'chicken', 'dry', 'with', 'paper', 'to...</td>\n",
       "      <td>[1002, 7280, 24753, 1322, 40329, 39949, 5605, ...</td>\n",
       "      <td>[1002, 32829, 1009, 45603, 5799, 21078, 22700,...</td>\n",
       "      <td>21</td>\n",
       "      <td>2454</td>\n",
       "      <td>[1002, 7280, 24753, 1322, 40329, 39949, 5605, ...</td>\n",
       "      <td>[1002, 32829, 1009, 45603, 5799, 21078, 22700,...</td>\n",
       "      <td>53</td>\n",
       "      <td>10565</td>\n",
       "    </tr>\n",
       "    <tr>\n",
       "      <th>1</th>\n",
       "      <td>1</td>\n",
       "      <td>['2 large egg whites', '1 pound new potatoes (...</td>\n",
       "      <td>Preheat oven to 400°F and line a rimmed baking...</td>\n",
       "      <td>['egg_whites', 'new_potatoes', 'teaspoons_kosh...</td>\n",
       "      <td>preheat oven to 400f and line a rimmed baking ...</td>\n",
       "      <td>['preheat', 'oven', 'to', '400f', 'and', 'line...</td>\n",
       "      <td>[1002, 15973, 28327, 49267, 3879, 39949, 50508...</td>\n",
       "      <td>[1002, 32829, 37882, 15751, 21078, 15751, 1009...</td>\n",
       "      <td>7</td>\n",
       "      <td>592</td>\n",
       "      <td>[1002, 15973, 28327, 49267, 3879, 39949, 50508...</td>\n",
       "      <td>[1002, 32829, 37882, 15751, 21078, 15751, 1009...</td>\n",
       "      <td>53</td>\n",
       "      <td>10565</td>\n",
       "    </tr>\n",
       "    <tr>\n",
       "      <th>2</th>\n",
       "      <td>2</td>\n",
       "      <td>['1 cup evaporated milk', '1 cup whole milk', ...</td>\n",
       "      <td>Place a rack in middle of oven; preheat to 400...</td>\n",
       "      <td>['evaporated_milk', 'milk', 'garlic_powder', '...</td>\n",
       "      <td>place a rack in middle of oven preheat to 400 ...</td>\n",
       "      <td>['place', 'a', 'rack', 'in', 'middle', 'of', '...</td>\n",
       "      <td>[1002, 16721, 27238, 19315, 29079, 43299, 3879...</td>\n",
       "      <td>[1002, 32829, 24817, 1009, 5799, 15751, 1009, ...</td>\n",
       "      <td>10</td>\n",
       "      <td>832</td>\n",
       "      <td>[1002, 16721, 27238, 19315, 29079, 43299, 3879...</td>\n",
       "      <td>[1002, 32829, 24817, 1009, 5799, 15751, 1009, ...</td>\n",
       "      <td>53</td>\n",
       "      <td>10565</td>\n",
       "    </tr>\n",
       "    <tr>\n",
       "      <th>3</th>\n",
       "      <td>3</td>\n",
       "      <td>['1 (¾- to 1-pound) round Italian loaf, cut in...</td>\n",
       "      <td>Preheat oven to 350°F with rack in middle. Gen...</td>\n",
       "      <td>['round_italian_loaf_cut_inch_cubes', 'tablesp...</td>\n",
       "      <td>preheat oven to 350f with rack in middle gener...</td>\n",
       "      <td>['preheat', 'oven', 'to', '350f', 'with', 'rac...</td>\n",
       "      <td>[1002, 40082, 47386, 36793, 5540, 29125, 6812,...</td>\n",
       "      <td>[1002, 32829, 37882, 15751, 21078, 15751, 1009...</td>\n",
       "      <td>13</td>\n",
       "      <td>1637</td>\n",
       "      <td>[1002, 40082, 47386, 36793, 5540, 29125, 6812,...</td>\n",
       "      <td>[1002, 32829, 37882, 15751, 21078, 15751, 1009...</td>\n",
       "      <td>53</td>\n",
       "      <td>10565</td>\n",
       "    </tr>\n",
       "    <tr>\n",
       "      <th>4</th>\n",
       "      <td>4</td>\n",
       "      <td>['1 teaspoon dark brown sugar', '1 teaspoon ho...</td>\n",
       "      <td>Stir together brown sugar and hot water in a c...</td>\n",
       "      <td>['dark_brown_sugar', 'hot_water', 'bourbon', '...</td>\n",
       "      <td>stir together brown sugar and hot water in a c...</td>\n",
       "      <td>['stir', 'together', 'brown', 'sugar', 'and', ...</td>\n",
       "      <td>[1002, 13986, 22592, 4705, 25316, 48768, 19452...</td>\n",
       "      <td>[1002, 40282, 45603, 22700, 37882, 45603, 2856...</td>\n",
       "      <td>6</td>\n",
       "      <td>264</td>\n",
       "      <td>[1002, 13986, 22592, 4705, 25316, 48768, 19452...</td>\n",
       "      <td>[1002, 40282, 45603, 22700, 37882, 45603, 2856...</td>\n",
       "      <td>53</td>\n",
       "      <td>10565</td>\n",
       "    </tr>\n",
       "  </tbody>\n",
       "</table>\n",
       "</div>"
      ],
      "text/plain": [
       "   Unnamed: 0                                        Ingredients  \\\n",
       "0           0  ['1 (3½–4-lb.) whole chicken', '2¾ tsp. kosher...   \n",
       "1           1  ['2 large egg whites', '1 pound new potatoes (...   \n",
       "2           2  ['1 cup evaporated milk', '1 cup whole milk', ...   \n",
       "3           3  ['1 (¾- to 1-pound) round Italian loaf, cut in...   \n",
       "4           4  ['1 teaspoon dark brown sugar', '1 teaspoon ho...   \n",
       "\n",
       "                                        Instructions  \\\n",
       "0  Pat chicken dry with paper towels, season all ...   \n",
       "1  Preheat oven to 400°F and line a rimmed baking...   \n",
       "2  Place a rack in middle of oven; preheat to 400...   \n",
       "3  Preheat oven to 350°F with rack in middle. Gen...   \n",
       "4  Stir together brown sugar and hot water in a c...   \n",
       "\n",
       "                              Simplified_Ingredients  \\\n",
       "0  ['chicken', 'kosher_salt', 'acorn_squash', 'sa...   \n",
       "1  ['egg_whites', 'new_potatoes', 'teaspoons_kosh...   \n",
       "2  ['evaporated_milk', 'milk', 'garlic_powder', '...   \n",
       "3  ['round_italian_loaf_cut_inch_cubes', 'tablesp...   \n",
       "4  ['dark_brown_sugar', 'hot_water', 'bourbon', '...   \n",
       "\n",
       "                             Simplified_Instructions  \\\n",
       "0  pat chicken dry with paper towels season all o...   \n",
       "1  preheat oven to 400f and line a rimmed baking ...   \n",
       "2  place a rack in middle of oven preheat to 400 ...   \n",
       "3  preheat oven to 350f with rack in middle gener...   \n",
       "4  stir together brown sugar and hot water in a c...   \n",
       "\n",
       "                                      Instr_Tok_Wrds  \\\n",
       "0  ['pat', 'chicken', 'dry', 'with', 'paper', 'to...   \n",
       "1  ['preheat', 'oven', 'to', '400f', 'and', 'line...   \n",
       "2  ['place', 'a', 'rack', 'in', 'middle', 'of', '...   \n",
       "3  ['preheat', 'oven', 'to', '350f', 'with', 'rac...   \n",
       "4  ['stir', 'together', 'brown', 'sugar', 'and', ...   \n",
       "\n",
       "                                     Ingredients_Tok  \\\n",
       "0  [1002, 7280, 24753, 1322, 40329, 39949, 5605, ...   \n",
       "1  [1002, 15973, 28327, 49267, 3879, 39949, 50508...   \n",
       "2  [1002, 16721, 27238, 19315, 29079, 43299, 3879...   \n",
       "3  [1002, 40082, 47386, 36793, 5540, 29125, 6812,...   \n",
       "4  [1002, 13986, 22592, 4705, 25316, 48768, 19452...   \n",
       "\n",
       "                                    Instructions_Tok  Ingr_Len  Instr_Len  \\\n",
       "0  [1002, 32829, 1009, 45603, 5799, 21078, 22700,...        21       2454   \n",
       "1  [1002, 32829, 37882, 15751, 21078, 15751, 1009...         7        592   \n",
       "2  [1002, 32829, 24817, 1009, 5799, 15751, 1009, ...        10        832   \n",
       "3  [1002, 32829, 37882, 15751, 21078, 15751, 1009...        13       1637   \n",
       "4  [1002, 40282, 45603, 22700, 37882, 45603, 2856...         6        264   \n",
       "\n",
       "                                           Ingr_Tnsr  \\\n",
       "0  [1002, 7280, 24753, 1322, 40329, 39949, 5605, ...   \n",
       "1  [1002, 15973, 28327, 49267, 3879, 39949, 50508...   \n",
       "2  [1002, 16721, 27238, 19315, 29079, 43299, 3879...   \n",
       "3  [1002, 40082, 47386, 36793, 5540, 29125, 6812,...   \n",
       "4  [1002, 13986, 22592, 4705, 25316, 48768, 19452...   \n",
       "\n",
       "                                          Instr_Tnsr  Padded_Length_Ingr  \\\n",
       "0  [1002, 32829, 1009, 45603, 5799, 21078, 22700,...                  53   \n",
       "1  [1002, 32829, 37882, 15751, 21078, 15751, 1009...                  53   \n",
       "2  [1002, 32829, 24817, 1009, 5799, 15751, 1009, ...                  53   \n",
       "3  [1002, 32829, 37882, 15751, 21078, 15751, 1009...                  53   \n",
       "4  [1002, 40282, 45603, 22700, 37882, 45603, 2856...                  53   \n",
       "\n",
       "   Padded_Length_Instr  \n",
       "0                10565  \n",
       "1                10565  \n",
       "2                10565  \n",
       "3                10565  \n",
       "4                10565  "
      ]
     },
     "execution_count": 7,
     "metadata": {},
     "output_type": "execute_result"
    }
   ],
   "source": [
    "print(recipes_data.shape)\n",
    "recipes_data.head()"
   ]
  },
  {
   "cell_type": "code",
   "execution_count": 8,
   "metadata": {},
   "outputs": [
    {
     "data": {
      "text/html": [
       "<div>\n",
       "<style scoped>\n",
       "    .dataframe tbody tr th:only-of-type {\n",
       "        vertical-align: middle;\n",
       "    }\n",
       "\n",
       "    .dataframe tbody tr th {\n",
       "        vertical-align: top;\n",
       "    }\n",
       "\n",
       "    .dataframe thead th {\n",
       "        text-align: right;\n",
       "    }\n",
       "</style>\n",
       "<table border=\"1\" class=\"dataframe\">\n",
       "  <thead>\n",
       "    <tr style=\"text-align: right;\">\n",
       "      <th></th>\n",
       "      <th>Simplified_Ingredients</th>\n",
       "      <th>Simplified_Instructions</th>\n",
       "    </tr>\n",
       "  </thead>\n",
       "  <tbody>\n",
       "    <tr>\n",
       "      <th>0</th>\n",
       "      <td>['chicken', 'kosher_salt', 'acorn_squash', 'sa...</td>\n",
       "      <td>pat chicken dry with paper towels season all o...</td>\n",
       "    </tr>\n",
       "  </tbody>\n",
       "</table>\n",
       "</div>"
      ],
      "text/plain": [
       "                              Simplified_Ingredients  \\\n",
       "0  ['chicken', 'kosher_salt', 'acorn_squash', 'sa...   \n",
       "\n",
       "                             Simplified_Instructions  \n",
       "0  pat chicken dry with paper towels season all o...  "
      ]
     },
     "execution_count": 8,
     "metadata": {},
     "output_type": "execute_result"
    }
   ],
   "source": [
    "gpt_data = recipes_data[['Simplified_Ingredients', 'Simplified_Instructions']].copy()\n",
    "gpt_data.head(1)"
   ]
  },
  {
   "cell_type": "code",
   "execution_count": 13,
   "metadata": {},
   "outputs": [
    {
     "data": {
      "text/html": [
       "<div>\n",
       "<style scoped>\n",
       "    .dataframe tbody tr th:only-of-type {\n",
       "        vertical-align: middle;\n",
       "    }\n",
       "\n",
       "    .dataframe tbody tr th {\n",
       "        vertical-align: top;\n",
       "    }\n",
       "\n",
       "    .dataframe thead th {\n",
       "        text-align: right;\n",
       "    }\n",
       "</style>\n",
       "<table border=\"1\" class=\"dataframe\">\n",
       "  <thead>\n",
       "    <tr style=\"text-align: right;\">\n",
       "      <th></th>\n",
       "      <th>Simplified_Ingredients</th>\n",
       "      <th>Simplified_Instructions</th>\n",
       "      <th>Conv_Ingr</th>\n",
       "    </tr>\n",
       "  </thead>\n",
       "  <tbody>\n",
       "    <tr>\n",
       "      <th>0</th>\n",
       "      <td>['chicken', 'kosher_salt', 'acorn_squash', 'sa...</td>\n",
       "      <td>pat chicken dry with paper towels season all o...</td>\n",
       "      <td>chicken, kosher salt, acorn squash, sage, rose...</td>\n",
       "    </tr>\n",
       "    <tr>\n",
       "      <th>1</th>\n",
       "      <td>['egg_whites', 'new_potatoes', 'teaspoons_kosh...</td>\n",
       "      <td>preheat oven to 400f and line a rimmed baking ...</td>\n",
       "      <td>egg whites, new potatoes, teaspoons kosher sal...</td>\n",
       "    </tr>\n",
       "    <tr>\n",
       "      <th>2</th>\n",
       "      <td>['evaporated_milk', 'milk', 'garlic_powder', '...</td>\n",
       "      <td>place a rack in middle of oven preheat to 400 ...</td>\n",
       "      <td>evaporated milk, milk, garlic powder, onion po...</td>\n",
       "    </tr>\n",
       "    <tr>\n",
       "      <th>3</th>\n",
       "      <td>['round_italian_loaf_cut_inch_cubes', 'tablesp...</td>\n",
       "      <td>preheat oven to 350f with rack in middle gener...</td>\n",
       "      <td>round italian loaf cut inch cubes, tablespoons...</td>\n",
       "    </tr>\n",
       "    <tr>\n",
       "      <th>4</th>\n",
       "      <td>['dark_brown_sugar', 'hot_water', 'bourbon', '...</td>\n",
       "      <td>stir together brown sugar and hot water in a c...</td>\n",
       "      <td>dark brown sugar, hot water, bourbon, lemon ju...</td>\n",
       "    </tr>\n",
       "  </tbody>\n",
       "</table>\n",
       "</div>"
      ],
      "text/plain": [
       "                              Simplified_Ingredients  \\\n",
       "0  ['chicken', 'kosher_salt', 'acorn_squash', 'sa...   \n",
       "1  ['egg_whites', 'new_potatoes', 'teaspoons_kosh...   \n",
       "2  ['evaporated_milk', 'milk', 'garlic_powder', '...   \n",
       "3  ['round_italian_loaf_cut_inch_cubes', 'tablesp...   \n",
       "4  ['dark_brown_sugar', 'hot_water', 'bourbon', '...   \n",
       "\n",
       "                             Simplified_Instructions  \\\n",
       "0  pat chicken dry with paper towels season all o...   \n",
       "1  preheat oven to 400f and line a rimmed baking ...   \n",
       "2  place a rack in middle of oven preheat to 400 ...   \n",
       "3  preheat oven to 350f with rack in middle gener...   \n",
       "4  stir together brown sugar and hot water in a c...   \n",
       "\n",
       "                                           Conv_Ingr  \n",
       "0  chicken, kosher salt, acorn squash, sage, rose...  \n",
       "1  egg whites, new potatoes, teaspoons kosher sal...  \n",
       "2  evaporated milk, milk, garlic powder, onion po...  \n",
       "3  round italian loaf cut inch cubes, tablespoons...  \n",
       "4  dark brown sugar, hot water, bourbon, lemon ju...  "
      ]
     },
     "execution_count": 13,
     "metadata": {},
     "output_type": "execute_result"
    }
   ],
   "source": [
    "# Converting ingredients to gpt input by removing underscores and turning into comma\n",
    "# separated string from string array\n",
    "def convert_to_gpt_input(input):\n",
    "  converted = ''\n",
    "  for ingredient in ast.literal_eval(input):\n",
    "    ni = ingredient.replace('_', ' ')\n",
    "    converted += ni + \", \"\n",
    "  return converted\n",
    "\n",
    "gpt_data['Conv_Ingr'] = gpt_data['Simplified_Ingredients'].apply(convert_to_gpt_input)\n",
    "gpt_data.head(5)"
   ]
  },
  {
   "cell_type": "code",
   "execution_count": 15,
   "metadata": {},
   "outputs": [
    {
     "data": {
      "text/plain": [
       "'Given these ingredients <INGR> chicken, kosher salt, acorn squash, sage, rosemary, butter melted room temperature, allspice, crushed red pepper flakes, black pepper, loaf white bread torn pieces, apples cored cut pieces, extravirgin olive oil, red onion thinly sliced, apple cider vinegar, white miso, allpurpose flour, butter room temperature, dry white wine, cups chicken broth, white miso, kosher salt pepper,  The recipe is <RECIPE> pat chicken dry with paper towels season all over with 2 tsp salt and tie legs together with kitchen twine let sit at room temperature 1 hour meanwhile halve squash and scoop out seeds run a vegetable peeler along ridges of squash halves to remove skin cut each half into ½ thick wedges arrange on a rimmed baking sheet combine sage rosemary and 6 tbsp melted butter in a large bowl pour half of mixture over squash on baking sheet sprinkle squash with allspice red pepper flakes and ½ tsp salt and season with black pepper toss to coat add bread apples oil and ¼ tsp salt to remaining herb butter in bowl season with black pepper and toss to combine set aside place onion and vinegar in a small bowl season with salt and toss to coat let sit tossing occasionally until ready to serve place a rack in middle and lower third of oven preheat to 425f mix miso and 3 tbsp room temperature butter in a small bowl until smooth pat chicken dry with paper towels then rub or brush all over with miso butter place chicken in a large cast iron skillet and roast on middle rack until an instant read thermometer inserted into the thickest part of breast registers 155f 5060 minutes temperature will climb to 165f while chicken rests let chicken rest in skillet at least 5 minutes then transfer to a plate reserve skillet meanwhile roast squash on lower rack until mostly tender about 25 minutes remove from oven and scatter reserved bread mixture over spreading into as even a layer as you can manage return to oven and roast until bread is golden brown and crisp and apples are tender about 15 minutes remove from oven drain pickled onions and toss to combine transfer to a serving dish using your fingers mash flour and butter in a small bowl to combine set reserved skillet with chicken drippings over medium heat you should have about ¼ cup but a little over or under is all good if you have significantly more drain off and set excess aside add wine and cook stirring often and scraping up any browned bits with a wooden spoon until bits are loosened and wine is reduced by about half you should be able to smell the wine about 2 minutes add butter mixture cook stirring often until a smooth paste forms about 2 minutes add broth and any reserved drippings and cook stirring constantly until combined and thickened 68 minutes remove from heat and stir in miso taste and season with salt and black pepper serve chicken with gravy and squash panzanella alongside'"
      ]
     },
     "execution_count": 15,
     "metadata": {},
     "output_type": "execute_result"
    }
   ],
   "source": [
    "# Converting from string of comma separated ingredients into prompt structure compatible with gpt models\n",
    "gpt_data['To_Input'] = \"Given these ingredients <INGR> \" + gpt_data['Conv_Ingr'] + \" The recipe is <RECIPE> \" + gpt_data['Simplified_Instructions']\n",
    "gpt_data['To_Input'][0]"
   ]
  },
  {
   "cell_type": "code",
   "execution_count": 20,
   "metadata": {},
   "outputs": [
    {
     "data": {
      "text/plain": [
       "Simplified_Ingredients     0\n",
       "Simplified_Instructions    8\n",
       "Conv_Ingr                  0\n",
       "To_Input                   8\n",
       "dtype: int64"
      ]
     },
     "execution_count": 20,
     "metadata": {},
     "output_type": "execute_result"
    }
   ],
   "source": [
    "\n",
    "gpt_data.isna().sum()"
   ]
  },
  {
   "cell_type": "code",
   "execution_count": 22,
   "metadata": {},
   "outputs": [
    {
     "name": "stdout",
     "output_type": "stream",
     "text": [
      "(13493, 4)\n"
     ]
    }
   ],
   "source": [
    "# Dropping null entries\n",
    "gpt_data = gpt_data.dropna()\n",
    "print(gpt_data.shape)"
   ]
  },
  {
   "cell_type": "code",
   "execution_count": null,
   "metadata": {},
   "outputs": [
    {
     "name": "stderr",
     "output_type": "stream",
     "text": [
      "Token indices sequence length is longer than the specified maximum sequence length for this model (1283 > 1024). Running this sequence through the model will result in indexing errors\n"
     ]
    },
    {
     "name": "stdout",
     "output_type": "stream",
     "text": [
      "(13457, 6)\n"
     ]
    }
   ],
   "source": [
    "# Using gpt2 pretrained tokenizer to tokenize text inputs, and remove any that exceed\n",
    "# the max token length of 1024\n",
    "tokenizer = GPT2Tokenizer.from_pretrained(\"gpt2\")\n",
    "gpt_data['Tokenized'] = gpt_data['To_Input'].apply(lambda x: tokenizer.encode(x, truncation = False))\n",
    "gpt_data['Tok_Len'] = gpt_data['Tokenized'].apply(len)\n",
    "gpt_data = gpt_data[gpt_data['Tok_Len'] <= 1024]\n",
    "print(gpt_data.shape)"
   ]
  },
  {
   "cell_type": "code",
   "execution_count": 27,
   "metadata": {},
   "outputs": [
    {
     "data": {
      "text/html": [
       "<div>\n",
       "<style scoped>\n",
       "    .dataframe tbody tr th:only-of-type {\n",
       "        vertical-align: middle;\n",
       "    }\n",
       "\n",
       "    .dataframe tbody tr th {\n",
       "        vertical-align: top;\n",
       "    }\n",
       "\n",
       "    .dataframe thead th {\n",
       "        text-align: right;\n",
       "    }\n",
       "</style>\n",
       "<table border=\"1\" class=\"dataframe\">\n",
       "  <thead>\n",
       "    <tr style=\"text-align: right;\">\n",
       "      <th></th>\n",
       "      <th>Simplified_Ingredients</th>\n",
       "      <th>Simplified_Instructions</th>\n",
       "      <th>Conv_Ingr</th>\n",
       "      <th>To_Input</th>\n",
       "      <th>Tokenized</th>\n",
       "      <th>Tok_Len</th>\n",
       "    </tr>\n",
       "  </thead>\n",
       "  <tbody>\n",
       "    <tr>\n",
       "      <th>0</th>\n",
       "      <td>['chicken', 'kosher_salt', 'acorn_squash', 'sa...</td>\n",
       "      <td>pat chicken dry with paper towels season all o...</td>\n",
       "      <td>chicken, kosher salt, acorn squash, sage, rose...</td>\n",
       "      <td>Given these ingredients &lt;INGR&gt; chicken, kosher...</td>\n",
       "      <td>[15056, 777, 9391, 1279, 2751, 49, 29, 9015, 1...</td>\n",
       "      <td>576</td>\n",
       "    </tr>\n",
       "    <tr>\n",
       "      <th>1</th>\n",
       "      <td>['egg_whites', 'new_potatoes', 'teaspoons_kosh...</td>\n",
       "      <td>preheat oven to 400f and line a rimmed baking ...</td>\n",
       "      <td>egg whites, new potatoes, teaspoons kosher sal...</td>\n",
       "      <td>Given these ingredients &lt;INGR&gt; egg whites, new...</td>\n",
       "      <td>[15056, 777, 9391, 1279, 2751, 49, 29, 5935, 1...</td>\n",
       "      <td>157</td>\n",
       "    </tr>\n",
       "    <tr>\n",
       "      <th>2</th>\n",
       "      <td>['evaporated_milk', 'milk', 'garlic_powder', '...</td>\n",
       "      <td>place a rack in middle of oven preheat to 400 ...</td>\n",
       "      <td>evaporated milk, milk, garlic powder, onion po...</td>\n",
       "      <td>Given these ingredients &lt;INGR&gt; evaporated milk...</td>\n",
       "      <td>[15056, 777, 9391, 1279, 2751, 49, 29, 28959, ...</td>\n",
       "      <td>229</td>\n",
       "    </tr>\n",
       "    <tr>\n",
       "      <th>3</th>\n",
       "      <td>['round_italian_loaf_cut_inch_cubes', 'tablesp...</td>\n",
       "      <td>preheat oven to 350f with rack in middle gener...</td>\n",
       "      <td>round italian loaf cut inch cubes, tablespoons...</td>\n",
       "      <td>Given these ingredients &lt;INGR&gt; round italian l...</td>\n",
       "      <td>[15056, 777, 9391, 1279, 2751, 49, 29, 2835, 3...</td>\n",
       "      <td>392</td>\n",
       "    </tr>\n",
       "    <tr>\n",
       "      <th>4</th>\n",
       "      <td>['dark_brown_sugar', 'hot_water', 'bourbon', '...</td>\n",
       "      <td>stir together brown sugar and hot water in a c...</td>\n",
       "      <td>dark brown sugar, hot water, bourbon, lemon ju...</td>\n",
       "      <td>Given these ingredients &lt;INGR&gt; dark brown suga...</td>\n",
       "      <td>[15056, 777, 9391, 1279, 2751, 49, 29, 3223, 7...</td>\n",
       "      <td>89</td>\n",
       "    </tr>\n",
       "  </tbody>\n",
       "</table>\n",
       "</div>"
      ],
      "text/plain": [
       "                              Simplified_Ingredients  \\\n",
       "0  ['chicken', 'kosher_salt', 'acorn_squash', 'sa...   \n",
       "1  ['egg_whites', 'new_potatoes', 'teaspoons_kosh...   \n",
       "2  ['evaporated_milk', 'milk', 'garlic_powder', '...   \n",
       "3  ['round_italian_loaf_cut_inch_cubes', 'tablesp...   \n",
       "4  ['dark_brown_sugar', 'hot_water', 'bourbon', '...   \n",
       "\n",
       "                             Simplified_Instructions  \\\n",
       "0  pat chicken dry with paper towels season all o...   \n",
       "1  preheat oven to 400f and line a rimmed baking ...   \n",
       "2  place a rack in middle of oven preheat to 400 ...   \n",
       "3  preheat oven to 350f with rack in middle gener...   \n",
       "4  stir together brown sugar and hot water in a c...   \n",
       "\n",
       "                                           Conv_Ingr  \\\n",
       "0  chicken, kosher salt, acorn squash, sage, rose...   \n",
       "1  egg whites, new potatoes, teaspoons kosher sal...   \n",
       "2  evaporated milk, milk, garlic powder, onion po...   \n",
       "3  round italian loaf cut inch cubes, tablespoons...   \n",
       "4  dark brown sugar, hot water, bourbon, lemon ju...   \n",
       "\n",
       "                                            To_Input  \\\n",
       "0  Given these ingredients <INGR> chicken, kosher...   \n",
       "1  Given these ingredients <INGR> egg whites, new...   \n",
       "2  Given these ingredients <INGR> evaporated milk...   \n",
       "3  Given these ingredients <INGR> round italian l...   \n",
       "4  Given these ingredients <INGR> dark brown suga...   \n",
       "\n",
       "                                           Tokenized  Tok_Len  \n",
       "0  [15056, 777, 9391, 1279, 2751, 49, 29, 9015, 1...      576  \n",
       "1  [15056, 777, 9391, 1279, 2751, 49, 29, 5935, 1...      157  \n",
       "2  [15056, 777, 9391, 1279, 2751, 49, 29, 28959, ...      229  \n",
       "3  [15056, 777, 9391, 1279, 2751, 49, 29, 2835, 3...      392  \n",
       "4  [15056, 777, 9391, 1279, 2751, 49, 29, 3223, 7...       89  "
      ]
     },
     "execution_count": 27,
     "metadata": {},
     "output_type": "execute_result"
    }
   ],
   "source": [
    "gpt_data.head()"
   ]
  },
  {
   "cell_type": "code",
   "execution_count": 29,
   "metadata": {},
   "outputs": [],
   "source": [
    "# Generating train and test splits\n",
    "final_inputs = gpt_data['To_Input'].copy()\n",
    "gpt_train, gpt_rest = train_test_split(final_inputs, test_size = 0.8, train_size = 0.2, random_state = 4701)\n",
    "gpt_test, gpt_val = train_test_split(gpt_rest, train_size = 0.5, test_size = 0.5, random_state = 4701)"
   ]
  },
  {
   "cell_type": "code",
   "execution_count": null,
   "metadata": {},
   "outputs": [],
   "source": [
    "# Outputting the splits to CSVs\n",
    "gpt_train.to_csv('./GPT_CSVs/gpt_train.csv')\n",
    "gpt_test.to_csv('./GPT_CSVs/gpt_test.csv')\n",
    "gpt_val.to_csv('./GPT_CSVs/gpt_val.csv')"
   ]
  }
 ],
 "metadata": {
  "kernelspec": {
   "display_name": "cs4701",
   "language": "python",
   "name": "python3"
  },
  "language_info": {
   "codemirror_mode": {
    "name": "ipython",
    "version": 3
   },
   "file_extension": ".py",
   "mimetype": "text/x-python",
   "name": "python",
   "nbconvert_exporter": "python",
   "pygments_lexer": "ipython3",
   "version": "3.12.7"
  }
 },
 "nbformat": 4,
 "nbformat_minor": 2
}
